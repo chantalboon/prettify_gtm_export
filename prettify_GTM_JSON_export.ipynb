{
  "nbformat": 4,
  "nbformat_minor": 0,
  "metadata": {
    "colab": {
      "provenance": [],
      "authorship_tag": "ABX9TyPC3rIblI33itxKWzp5ve1U",
      "include_colab_link": true
    },
    "kernelspec": {
      "name": "python3",
      "display_name": "Python 3"
    },
    "language_info": {
      "name": "python"
    }
  },
  "cells": [
    {
      "cell_type": "markdown",
      "metadata": {
        "id": "view-in-github",
        "colab_type": "text"
      },
      "source": [
        "<a href=\"https://colab.research.google.com/github/nicobrx/prettify_gtm_export/blob/main/prettify_GTM_JSON_export.ipynb\" target=\"_parent\"><img src=\"https://colab.research.google.com/assets/colab-badge.svg\" alt=\"Open In Colab\"/></a>"
      ]
    },
    {
      "cell_type": "markdown",
      "source": [
        "### Imports and authentication"
      ],
      "metadata": {
        "id": "Oq6lMyN_FzUG"
      }
    },
    {
      "cell_type": "code",
      "source": [
        "from google.colab import files\n",
        "from google.colab import auth\n",
        "from google.auth import default\n",
        "from googleapiclient.discovery import build\n",
        "from googleapiclient.http import MediaFileUpload\n",
        "import json\n",
        "\n",
        "# Authenticate and mount Google Drive\n",
        "auth.authenticate_user()\n",
        "creds, _ = default()"
      ],
      "metadata": {
        "colab": {
          "base_uri": "https://localhost:8080/",
          "height": 17
        },
        "id": "F0BOE6PpzzlZ",
        "outputId": "a8b3a42a-9213-4498-a63d-7e363efbde82"
      },
      "execution_count": 45,
      "outputs": [
        {
          "output_type": "display_data",
          "data": {
            "text/plain": [
              "<IPython.core.display.HTML object>"
            ],
            "text/html": [
              "\n",
              "  <style>\n",
              "    pre {\n",
              "        white-space: pre-wrap;\n",
              "    }\n",
              "  </style>\n",
              "  "
            ]
          },
          "metadata": {}
        }
      ]
    },
    {
      "cell_type": "markdown",
      "source": [
        "### Upload a Google Tag Manager container export file"
      ],
      "metadata": {
        "id": "bOPh2r6bF9KG"
      }
    },
    {
      "cell_type": "code",
      "source": [
        "# upload the GTM JSON export\n",
        "\n",
        "upload = files.upload()\n",
        "filename = list(upload.keys())[0]  # get the name of the uploaded file\n",
        "with open(filename, 'r') as file:\n",
        "    gtm_data = json.load(file)\n"
      ],
      "metadata": {
        "colab": {
          "base_uri": "https://localhost:8080/",
          "height": 73
        },
        "id": "OaB3qCmkz71K",
        "outputId": "4dc6a67e-f254-4d72-8e96-c1637e1c11ee"
      },
      "execution_count": 46,
      "outputs": [
        {
          "output_type": "display_data",
          "data": {
            "text/plain": [
              "<IPython.core.display.HTML object>"
            ],
            "text/html": [
              "\n",
              "  <style>\n",
              "    pre {\n",
              "        white-space: pre-wrap;\n",
              "    }\n",
              "  </style>\n",
              "  "
            ]
          },
          "metadata": {}
        },
        {
          "output_type": "display_data",
          "data": {
            "text/plain": [
              "<IPython.core.display.HTML object>"
            ],
            "text/html": [
              "\n",
              "     <input type=\"file\" id=\"files-5c4eca51-2aaa-4c6b-827f-4a03a45d94d3\" name=\"files[]\" multiple disabled\n",
              "        style=\"border:none\" />\n",
              "     <output id=\"result-5c4eca51-2aaa-4c6b-827f-4a03a45d94d3\">\n",
              "      Upload widget is only available when the cell has been executed in the\n",
              "      current browser session. Please rerun this cell to enable.\n",
              "      </output>\n",
              "      <script>// Copyright 2017 Google LLC\n",
              "//\n",
              "// Licensed under the Apache License, Version 2.0 (the \"License\");\n",
              "// you may not use this file except in compliance with the License.\n",
              "// You may obtain a copy of the License at\n",
              "//\n",
              "//      http://www.apache.org/licenses/LICENSE-2.0\n",
              "//\n",
              "// Unless required by applicable law or agreed to in writing, software\n",
              "// distributed under the License is distributed on an \"AS IS\" BASIS,\n",
              "// WITHOUT WARRANTIES OR CONDITIONS OF ANY KIND, either express or implied.\n",
              "// See the License for the specific language governing permissions and\n",
              "// limitations under the License.\n",
              "\n",
              "/**\n",
              " * @fileoverview Helpers for google.colab Python module.\n",
              " */\n",
              "(function(scope) {\n",
              "function span(text, styleAttributes = {}) {\n",
              "  const element = document.createElement('span');\n",
              "  element.textContent = text;\n",
              "  for (const key of Object.keys(styleAttributes)) {\n",
              "    element.style[key] = styleAttributes[key];\n",
              "  }\n",
              "  return element;\n",
              "}\n",
              "\n",
              "// Max number of bytes which will be uploaded at a time.\n",
              "const MAX_PAYLOAD_SIZE = 100 * 1024;\n",
              "\n",
              "function _uploadFiles(inputId, outputId) {\n",
              "  const steps = uploadFilesStep(inputId, outputId);\n",
              "  const outputElement = document.getElementById(outputId);\n",
              "  // Cache steps on the outputElement to make it available for the next call\n",
              "  // to uploadFilesContinue from Python.\n",
              "  outputElement.steps = steps;\n",
              "\n",
              "  return _uploadFilesContinue(outputId);\n",
              "}\n",
              "\n",
              "// This is roughly an async generator (not supported in the browser yet),\n",
              "// where there are multiple asynchronous steps and the Python side is going\n",
              "// to poll for completion of each step.\n",
              "// This uses a Promise to block the python side on completion of each step,\n",
              "// then passes the result of the previous step as the input to the next step.\n",
              "function _uploadFilesContinue(outputId) {\n",
              "  const outputElement = document.getElementById(outputId);\n",
              "  const steps = outputElement.steps;\n",
              "\n",
              "  const next = steps.next(outputElement.lastPromiseValue);\n",
              "  return Promise.resolve(next.value.promise).then((value) => {\n",
              "    // Cache the last promise value to make it available to the next\n",
              "    // step of the generator.\n",
              "    outputElement.lastPromiseValue = value;\n",
              "    return next.value.response;\n",
              "  });\n",
              "}\n",
              "\n",
              "/**\n",
              " * Generator function which is called between each async step of the upload\n",
              " * process.\n",
              " * @param {string} inputId Element ID of the input file picker element.\n",
              " * @param {string} outputId Element ID of the output display.\n",
              " * @return {!Iterable<!Object>} Iterable of next steps.\n",
              " */\n",
              "function* uploadFilesStep(inputId, outputId) {\n",
              "  const inputElement = document.getElementById(inputId);\n",
              "  inputElement.disabled = false;\n",
              "\n",
              "  const outputElement = document.getElementById(outputId);\n",
              "  outputElement.innerHTML = '';\n",
              "\n",
              "  const pickedPromise = new Promise((resolve) => {\n",
              "    inputElement.addEventListener('change', (e) => {\n",
              "      resolve(e.target.files);\n",
              "    });\n",
              "  });\n",
              "\n",
              "  const cancel = document.createElement('button');\n",
              "  inputElement.parentElement.appendChild(cancel);\n",
              "  cancel.textContent = 'Cancel upload';\n",
              "  const cancelPromise = new Promise((resolve) => {\n",
              "    cancel.onclick = () => {\n",
              "      resolve(null);\n",
              "    };\n",
              "  });\n",
              "\n",
              "  // Wait for the user to pick the files.\n",
              "  const files = yield {\n",
              "    promise: Promise.race([pickedPromise, cancelPromise]),\n",
              "    response: {\n",
              "      action: 'starting',\n",
              "    }\n",
              "  };\n",
              "\n",
              "  cancel.remove();\n",
              "\n",
              "  // Disable the input element since further picks are not allowed.\n",
              "  inputElement.disabled = true;\n",
              "\n",
              "  if (!files) {\n",
              "    return {\n",
              "      response: {\n",
              "        action: 'complete',\n",
              "      }\n",
              "    };\n",
              "  }\n",
              "\n",
              "  for (const file of files) {\n",
              "    const li = document.createElement('li');\n",
              "    li.append(span(file.name, {fontWeight: 'bold'}));\n",
              "    li.append(span(\n",
              "        `(${file.type || 'n/a'}) - ${file.size} bytes, ` +\n",
              "        `last modified: ${\n",
              "            file.lastModifiedDate ? file.lastModifiedDate.toLocaleDateString() :\n",
              "                                    'n/a'} - `));\n",
              "    const percent = span('0% done');\n",
              "    li.appendChild(percent);\n",
              "\n",
              "    outputElement.appendChild(li);\n",
              "\n",
              "    const fileDataPromise = new Promise((resolve) => {\n",
              "      const reader = new FileReader();\n",
              "      reader.onload = (e) => {\n",
              "        resolve(e.target.result);\n",
              "      };\n",
              "      reader.readAsArrayBuffer(file);\n",
              "    });\n",
              "    // Wait for the data to be ready.\n",
              "    let fileData = yield {\n",
              "      promise: fileDataPromise,\n",
              "      response: {\n",
              "        action: 'continue',\n",
              "      }\n",
              "    };\n",
              "\n",
              "    // Use a chunked sending to avoid message size limits. See b/62115660.\n",
              "    let position = 0;\n",
              "    do {\n",
              "      const length = Math.min(fileData.byteLength - position, MAX_PAYLOAD_SIZE);\n",
              "      const chunk = new Uint8Array(fileData, position, length);\n",
              "      position += length;\n",
              "\n",
              "      const base64 = btoa(String.fromCharCode.apply(null, chunk));\n",
              "      yield {\n",
              "        response: {\n",
              "          action: 'append',\n",
              "          file: file.name,\n",
              "          data: base64,\n",
              "        },\n",
              "      };\n",
              "\n",
              "      let percentDone = fileData.byteLength === 0 ?\n",
              "          100 :\n",
              "          Math.round((position / fileData.byteLength) * 100);\n",
              "      percent.textContent = `${percentDone}% done`;\n",
              "\n",
              "    } while (position < fileData.byteLength);\n",
              "  }\n",
              "\n",
              "  // All done.\n",
              "  yield {\n",
              "    response: {\n",
              "      action: 'complete',\n",
              "    }\n",
              "  };\n",
              "}\n",
              "\n",
              "scope.google = scope.google || {};\n",
              "scope.google.colab = scope.google.colab || {};\n",
              "scope.google.colab._files = {\n",
              "  _uploadFiles,\n",
              "  _uploadFilesContinue,\n",
              "};\n",
              "})(self);\n",
              "</script> "
            ]
          },
          "metadata": {}
        },
        {
          "output_type": "stream",
          "name": "stdout",
          "text": [
            "Saving GTM-KBSFZN3_workspace19.json to GTM-KBSFZN3_workspace19.json\n"
          ]
        }
      ]
    },
    {
      "cell_type": "markdown",
      "source": [
        "### Add trigger lookups\n",
        "The export doesn't include built-in triggers definitions.\n",
        "This dictionary gets added to the list from the export."
      ],
      "metadata": {
        "id": "DxZq_B5KGFWk"
      }
    },
    {
      "cell_type": "code",
      "source": [
        "\n",
        "# need to fill out complete list\n",
        "built_in_triggers = {\n",
        "    '2147479553':'All Pages',\n",
        "    '2147479572':'Consent Initialization'\n",
        "}\n",
        "\n",
        "tag_types = {\n",
        "    'awct':'Google Ads Conversion Tracking',\n",
        "    'cvt_31071642_5':'Facebook Pixel',\n",
        "    'gaawe':'GA4 Event',\n",
        "    'gclidw':'Conversion Linker',\n",
        "    'googtag': 'Google Tag',\n",
        "    'html':'Custom HTML',\n",
        "    'ua':'Google Analytics: Universal Analytics'\n",
        "\n",
        "}"
      ],
      "metadata": {
        "colab": {
          "base_uri": "https://localhost:8080/",
          "height": 17
        },
        "id": "nMDx4tJ__xay",
        "outputId": "0b58b330-0466-49d7-de36-c02c732481e0"
      },
      "execution_count": 60,
      "outputs": [
        {
          "output_type": "display_data",
          "data": {
            "text/plain": [
              "<IPython.core.display.HTML object>"
            ],
            "text/html": [
              "\n",
              "  <style>\n",
              "    pre {\n",
              "        white-space: pre-wrap;\n",
              "    }\n",
              "  </style>\n",
              "  "
            ]
          },
          "metadata": {}
        }
      ]
    },
    {
      "cell_type": "markdown",
      "source": [
        "### Create HTML documentation from export data"
      ],
      "metadata": {
        "id": "YRRnEw1OFnZ0"
      }
    },
    {
      "cell_type": "code",
      "source": [
        "# Extract tags, triggers, and variables\n",
        "tags = gtm_data.get('containerVersion',{}).get('tag',[])\n",
        "triggers = gtm_data.get('containerVersion',{}).get('trigger',[])\n",
        "variables = gtm_data.get('containerVersion',{}).get('variable',[])\n",
        "\n",
        "# Create dictionaries to map trigger IDs to names for easier lookup\n",
        "trigger_id_to_name = {trigger['triggerId']: trigger['name'] for trigger in triggers}\n",
        "trigger_id_to_name.update(built_in_triggers)\n",
        "\n",
        "# Build the HTML content\n",
        "html_content = \"<html><body>\"\n",
        "\n",
        "# Tags\n",
        "html_content += \"<h1>Tags</h1>\"\n",
        "html_content += \"<ul>\"\n",
        "for tag in tags:\n",
        "    tag_name = tag.get('name', 'Unknown Tag Name')\n",
        "    tag_type = tag.get('type', 'Unknown Type')\n",
        "    tag_type_name = tag_types.get(tag_type, tag_type)\n",
        "    tag_params = tag.get('parameter', [])\n",
        "\n",
        "    # Extract firing triggers using trigger IDs\n",
        "    firing_triggers = [trigger_id_to_name.get(trigger_id, trigger_id) for trigger_id in tag.get('firingTriggerId', [])]\n",
        "\n",
        "    html_content += f\"<li><strong>{tag_name}</strong> (Type: {tag_type_name})\"\n",
        "    html_content += \"<ul>\"\n",
        "\n",
        "    html_content += \"<li><strong>Parameters:</strong><ul>\"\n",
        "    for param in tag_params:\n",
        "        param_key = param.get('key', 'Unknown Key')\n",
        "        param_value = param.get('value', 'Unknown Value')\n",
        "        html_content += f\"<li>{param_key}: {param_value}</li>\"\n",
        "    html_content += \"</ul></li>\"\n",
        "\n",
        "    html_content += \"<li><strong>Firing Triggers:</strong><ul>\"\n",
        "    for trigger_name in firing_triggers:\n",
        "        html_content += f\"<li>{trigger_name}</li>\"\n",
        "    html_content += \"</ul></li>\"\n",
        "\n",
        "    html_content += \"</ul></li>\"\n",
        "html_content += \"</ul>\"\n",
        "\n",
        "# Triggers\n",
        "html_content += \"<h1>Triggers</h1>\"\n",
        "html_content += \"<ul>\"\n",
        "for trigger in triggers:\n",
        "    trigger_name = trigger.get('name', 'Unknown Trigger Name')\n",
        "    trigger_type = trigger.get('type', 'Unknown Type')\n",
        "    filters = trigger.get('filter', [])\n",
        "\n",
        "    html_content += f\"<li><strong>{trigger_name}</strong> (Type: {trigger_type})\"\n",
        "\n",
        "    # Check if there are any filters\n",
        "    if filters:\n",
        "        html_content += \"<ul><li><strong>Filter Conditions:</strong><ul>\"\n",
        "        for f in filters:\n",
        "            filter_type = f.get('type', 'Unknown Filter Type')\n",
        "            parameters = f.get('parameter', [])\n",
        "\n",
        "            # Describe each filter\n",
        "            param_descriptions = {}\n",
        "            for param in parameters:\n",
        "                param_key = param.get('key', 'Unknown Key')\n",
        "                param_value = param.get('value', 'Unknown Value')\n",
        "                param_descriptions[param_key] = param_value\n",
        "            param_text = param_descriptions['arg0'] + ' ' + filter_type + ' ' + param_descriptions['arg1']\n",
        "            html_content += f\"<li>{param_text}</li>\"\n",
        "        html_content += \"</ul></li></ul>\"\n",
        "\n",
        "    html_content += \"</li>\"\n",
        "html_content += \"</ul>\"\n",
        "\n",
        "# Variables\n",
        "html_content += \"<h1>Variables</h1>\"\n",
        "html_content += \"<ul>\"\n",
        "for variable in variables:\n",
        "    variable_name = variable.get('name', 'Unknown Variable Name')\n",
        "    variable_type = variable.get('type', 'Unknown Type')\n",
        "\n",
        "    html_content += f\"<li><strong>{variable_name}</strong> (Type: {variable_type})</li>\"\n",
        "html_content += \"</ul>\"\n",
        "\n",
        "html_content += \"</body></html>\"\n",
        "\n",
        "# Save the HTML content to a file\n",
        "html_file_path = '/content/gtm_container_documentation.html'\n",
        "with open(html_file_path, 'w') as html_file:\n",
        "    html_file.write(html_content)\n",
        "\n",
        "\n"
      ],
      "metadata": {
        "colab": {
          "base_uri": "https://localhost:8080/",
          "height": 17
        },
        "id": "VCJDAVlH7PbE",
        "outputId": "2f573f8f-77a0-4a1e-eb72-bfc3719f069d"
      },
      "execution_count": 61,
      "outputs": [
        {
          "output_type": "display_data",
          "data": {
            "text/plain": [
              "<IPython.core.display.HTML object>"
            ],
            "text/html": [
              "\n",
              "  <style>\n",
              "    pre {\n",
              "        white-space: pre-wrap;\n",
              "    }\n",
              "  </style>\n",
              "  "
            ]
          },
          "metadata": {}
        }
      ]
    },
    {
      "cell_type": "markdown",
      "source": [
        "### Create a Google doc from the output"
      ],
      "metadata": {
        "id": "sMWLFvbNFf8f"
      }
    },
    {
      "cell_type": "code",
      "source": [
        "# Create a new Google Doc\n",
        "docs_service = build('docs', 'v1', credentials=creds)\n",
        "document = docs_service.documents().create(body={'title': 'GTM Container Documentation'}).execute()\n",
        "doc_id = document['documentId']\n",
        "\n",
        "# Convert HTML to Google Docs format and upload\n",
        "drive_service = build('drive', 'v3', credentials=creds)\n",
        "media = MediaFileUpload(html_file_path, mimetype='text/html', resumable=True)\n",
        "drive_response = drive_service.files().update(\n",
        "    fileId=doc_id,\n",
        "    media_body=media,\n",
        "    fields='id'\n",
        ").execute()\n",
        "\n",
        "doc_link = f\"https://docs.google.com/document/d/{doc_id}/edit\"\n",
        "\n",
        "print(f\"Google Doc Link: {doc_link}\")"
      ],
      "metadata": {
        "colab": {
          "base_uri": "https://localhost:8080/",
          "height": 34
        },
        "id": "G96yK1lhFet1",
        "outputId": "2263a7aa-66be-4aed-e165-19346a3b90eb"
      },
      "execution_count": 62,
      "outputs": [
        {
          "output_type": "display_data",
          "data": {
            "text/plain": [
              "<IPython.core.display.HTML object>"
            ],
            "text/html": [
              "\n",
              "  <style>\n",
              "    pre {\n",
              "        white-space: pre-wrap;\n",
              "    }\n",
              "  </style>\n",
              "  "
            ]
          },
          "metadata": {}
        },
        {
          "output_type": "stream",
          "name": "stdout",
          "text": [
            "Google Doc Link: https://docs.google.com/document/d/1dqd5yJr9sH3bEXtz98opFUoptpPU7_wQbmFprS1gRh4/edit\n"
          ]
        }
      ]
    }
  ]
}