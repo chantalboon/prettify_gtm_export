{
  "nbformat": 4,
  "nbformat_minor": 0,
  "metadata": {
    "colab": {
      "provenance": [],
      "authorship_tag": "ABX9TyPDkLtpjhHy5vx4fNPYwINh",
      "include_colab_link": true
    },
    "kernelspec": {
      "name": "python3",
      "display_name": "Python 3"
    },
    "language_info": {
      "name": "python"
    }
  },
  "cells": [
    {
      "cell_type": "markdown",
      "metadata": {
        "id": "view-in-github",
        "colab_type": "text"
      },
      "source": [
        "<a href=\"https://colab.research.google.com/github/nicobrx/prettify_gtm_export/blob/main/prettify_GTM_JSON_export.ipynb\" target=\"_parent\"><img src=\"https://colab.research.google.com/assets/colab-badge.svg\" alt=\"Open In Colab\"/></a>"
      ]
    },
    {
      "cell_type": "markdown",
      "source": [
        "### Imports and authentication"
      ],
      "metadata": {
        "id": "Oq6lMyN_FzUG"
      }
    },
    {
      "cell_type": "code",
      "source": [
        "from google.colab import files\n",
        "from google.colab import auth\n",
        "from google.auth import default\n",
        "from googleapiclient.discovery import build\n",
        "from googleapiclient.http import MediaFileUpload\n",
        "import json\n",
        "\n",
        "# Authenticate and mount Google Drive\n",
        "auth.authenticate_user()\n",
        "creds, _ = default()"
      ],
      "metadata": {
        "colab": {
          "base_uri": "https://localhost:8080/",
          "height": 17
        },
        "id": "F0BOE6PpzzlZ",
        "outputId": "19fb682f-8702-479c-ff0f-dd2828153fce"
      },
      "execution_count": 88,
      "outputs": [
        {
          "output_type": "display_data",
          "data": {
            "text/plain": [
              "<IPython.core.display.HTML object>"
            ],
            "text/html": [
              "\n",
              "  <style>\n",
              "    pre {\n",
              "        white-space: pre-wrap;\n",
              "    }\n",
              "  </style>\n",
              "  "
            ]
          },
          "metadata": {}
        }
      ]
    },
    {
      "cell_type": "markdown",
      "source": [
        "### Upload a Google Tag Manager container export file"
      ],
      "metadata": {
        "id": "bOPh2r6bF9KG"
      }
    },
    {
      "cell_type": "code",
      "source": [
        "# upload the GTM JSON export\n",
        "\n",
        "upload = files.upload()\n",
        "filename = list(upload.keys())[0]\n",
        "with open(filename, 'r') as file:\n",
        "    gtm_data = json.load(file)\n"
      ],
      "metadata": {
        "id": "OaB3qCmkz71K"
      },
      "execution_count": null,
      "outputs": []
    },
    {
      "cell_type": "markdown",
      "source": [
        "### Add lookups\n",
        "The export doesn't include built-in trigger definitions and the tag types in the export are not always easy to interpret.\n",
        "These dictionaries improve the output."
      ],
      "metadata": {
        "id": "DxZq_B5KGFWk"
      }
    },
    {
      "cell_type": "code",
      "source": [
        "\n",
        "# need to fill out complete list\n",
        "built_in_triggers = {\n",
        "    '2147479553':'All Pages',\n",
        "    '2147479572':'Consent Initialization'\n",
        "}\n",
        "\n",
        "# ditto\n",
        "tag_types = {\n",
        "    'awct':'Google Ads Conversion Tracking',\n",
        "    'baut':'Microsoft Advertising Universal Event Tracking',\n",
        "    'bzi':'LinkedIn Insight',\n",
        "    'cegg':'Crazy Egg',\n",
        "    'cvt_31071642_5':'Facebook Pixel',\n",
        "    'cvt_2172125_189':'Facebook Pixel',\n",
        "    'cvt_31163855_152':'Lucky Orange Tracking Code',\n",
        "    'cvt_31163855_149':'OneTrust CMP',\n",
        "    'cvt_2715620_170':'LinkedIn InsightTag 2.0',\n",
        "    'cvt_2715620_175':'Cookiebot CMP',\n",
        "    'cvt_6370438_110':'Nextdoor Pixel',\n",
        "    'flc':'Floodlight Counter',\n",
        "    'fls':'Floodlight Sales',\n",
        "    'gaawe':'GA4 Event',\n",
        "    'gclidw':'Conversion Linker',\n",
        "    'googtag': 'Google Tag',\n",
        "    'hjtc':'Hotjar Tracking Code',\n",
        "    'html':'Custom HTML',\n",
        "    'img':'Custom Image',\n",
        "    'pntr':'Pinterest Tag',\n",
        "    'qpx':'Quora Pixel',\n",
        "    'sp':'Google Ads Remarketing',\n",
        "    'ua':'Google Analytics: Universal Analytics'\n",
        "\n",
        "}"
      ],
      "metadata": {
        "colab": {
          "base_uri": "https://localhost:8080/",
          "height": 17
        },
        "id": "nMDx4tJ__xay",
        "outputId": "0af16e52-df95-4d09-fce0-72b0cfdc8be3"
      },
      "execution_count": 93,
      "outputs": [
        {
          "output_type": "display_data",
          "data": {
            "text/plain": [
              "<IPython.core.display.HTML object>"
            ],
            "text/html": [
              "\n",
              "  <style>\n",
              "    pre {\n",
              "        white-space: pre-wrap;\n",
              "    }\n",
              "  </style>\n",
              "  "
            ]
          },
          "metadata": {}
        }
      ]
    },
    {
      "cell_type": "markdown",
      "source": [
        "### Create HTML documentation from export data"
      ],
      "metadata": {
        "id": "YRRnEw1OFnZ0"
      }
    },
    {
      "cell_type": "code",
      "source": [
        "# Extract tags, triggers, and variables\n",
        "tags = gtm_data.get('containerVersion',{}).get('tag',[])\n",
        "triggers = gtm_data.get('containerVersion',{}).get('trigger',[])\n",
        "variables = gtm_data.get('containerVersion',{}).get('variable',[])\n",
        "\n",
        "# Create dictionaries to map trigger IDs to names for easier lookup\n",
        "trigger_id_to_name = {trigger['triggerId']: trigger['name'] for trigger in triggers}\n",
        "trigger_id_to_name.update(built_in_triggers)\n",
        "\n",
        "# Build the HTML content\n",
        "html_content = \"<html><body>\"\n",
        "\n",
        "# Tags\n",
        "html_content += \"<h1>Tags</h1>\"\n",
        "html_content += \"<ul>\"\n",
        "for tag in tags:\n",
        "    tag_name = tag.get('name', 'Unknown Tag Name')\n",
        "    tag_type = tag.get('type', 'Unknown Type')\n",
        "    tag_type_name = tag_types.get(tag_type, tag_type)\n",
        "    tag_params = tag.get('parameter', [])\n",
        "\n",
        "    # Extract firing triggers using trigger IDs\n",
        "    firing_triggers = [trigger_id_to_name.get(trigger_id, trigger_id) for trigger_id in tag.get('firingTriggerId', [])]\n",
        "\n",
        "    html_content += f\"<li><strong>{tag_name}</strong> (Type: {tag_type_name})\"\n",
        "    html_content += \"<ul>\"\n",
        "\n",
        "    html_content += \"<li><strong>Parameters:</strong><ul>\"\n",
        "    for param in tag_params:\n",
        "        param_key = param.get('key', 'Unknown Key')\n",
        "        param_value = param.get('value', 'Unknown Value')\n",
        "        html_content += f\"<li>{param_key}: {param_value}</li>\"\n",
        "    html_content += \"</ul></li>\"\n",
        "\n",
        "    html_content += \"<li><strong>Firing Triggers:</strong><ul>\"\n",
        "    for trigger_name in firing_triggers:\n",
        "        html_content += f\"<li>{trigger_name}</li>\"\n",
        "    html_content += \"</ul></li>\"\n",
        "\n",
        "    html_content += \"</ul></li>\"\n",
        "html_content += \"</ul>\"\n",
        "\n",
        "# Triggers\n",
        "html_content += \"<h1>Triggers</h1>\"\n",
        "html_content += \"<ul>\"\n",
        "for trigger in triggers:\n",
        "    trigger_name = trigger.get('name', 'Unknown Trigger Name')\n",
        "    trigger_type = trigger.get('type', 'Unknown Type')\n",
        "    filters = trigger.get('filter', [])\n",
        "\n",
        "    html_content += f\"<li><strong>{trigger_name}</strong> (Type: {trigger_type})\"\n",
        "\n",
        "    # Check if there are any filters\n",
        "    if filters:\n",
        "        html_content += \"<ul><li><strong>Filter Conditions:</strong><ul>\"\n",
        "        for f in filters:\n",
        "            filter_type = f.get('type', 'Unknown Filter Type')\n",
        "            parameters = f.get('parameter', [])\n",
        "\n",
        "            # Describe each filter\n",
        "            param_descriptions = {}\n",
        "            for param in parameters:\n",
        "                param_key = param.get('key', 'Unknown Key')\n",
        "                param_value = param.get('value', 'Unknown Value')\n",
        "                param_descriptions[param_key] = param_value\n",
        "            param_text = param_descriptions['arg0'] + ' ' + filter_type + ' ' + param_descriptions['arg1']\n",
        "            html_content += f\"<li>{param_text}</li>\"\n",
        "        html_content += \"</ul></li></ul>\"\n",
        "\n",
        "    html_content += \"</li>\"\n",
        "html_content += \"</ul>\"\n",
        "\n",
        "# Variables\n",
        "html_content += \"<h1>Variables</h1>\"\n",
        "html_content += \"<ul>\"\n",
        "for variable in variables:\n",
        "    variable_name = variable.get('name', 'Unknown Variable Name')\n",
        "    variable_type = variable.get('type', 'Unknown Type')\n",
        "\n",
        "    html_content += f\"<li><strong>{variable_name}</strong> (Type: {variable_type})</li>\"\n",
        "html_content += \"</ul>\"\n",
        "\n",
        "html_content += \"</body></html>\"\n",
        "\n",
        "# Save the HTML content to a file\n",
        "html_file_path = '/content/gtm_container_documentation.html'\n",
        "with open(html_file_path, 'w') as html_file:\n",
        "    html_file.write(html_content)\n",
        "\n",
        "\n"
      ],
      "metadata": {
        "colab": {
          "base_uri": "https://localhost:8080/",
          "height": 17
        },
        "id": "VCJDAVlH7PbE",
        "outputId": "92b7ba21-213b-4439-d9da-a55b60419d4d"
      },
      "execution_count": 94,
      "outputs": [
        {
          "output_type": "display_data",
          "data": {
            "text/plain": [
              "<IPython.core.display.HTML object>"
            ],
            "text/html": [
              "\n",
              "  <style>\n",
              "    pre {\n",
              "        white-space: pre-wrap;\n",
              "    }\n",
              "  </style>\n",
              "  "
            ]
          },
          "metadata": {}
        }
      ]
    },
    {
      "cell_type": "markdown",
      "source": [
        "### Create a Google doc from the output"
      ],
      "metadata": {
        "id": "sMWLFvbNFf8f"
      }
    },
    {
      "cell_type": "code",
      "source": [
        "# Create a new Google Doc\n",
        "docs_service = build('docs', 'v1', credentials=creds)\n",
        "document = docs_service.documents().create(body={'title': 'GTM Container Documentation'}).execute()\n",
        "doc_id = document['documentId']\n",
        "\n",
        "# Convert HTML to Google Docs format and upload\n",
        "drive_service = build('drive', 'v3', credentials=creds)\n",
        "media = MediaFileUpload(html_file_path, mimetype='text/html', resumable=True)\n",
        "drive_response = drive_service.files().update(\n",
        "    fileId=doc_id,\n",
        "    media_body=media,\n",
        "    fields='id'\n",
        ").execute()\n",
        "\n",
        "doc_link = f\"https://docs.google.com/document/d/{doc_id}/edit\"\n",
        "\n",
        "print(f\"Google Doc Link: {doc_link}\")"
      ],
      "metadata": {
        "id": "G96yK1lhFet1"
      },
      "execution_count": null,
      "outputs": []
    }
  ]
}